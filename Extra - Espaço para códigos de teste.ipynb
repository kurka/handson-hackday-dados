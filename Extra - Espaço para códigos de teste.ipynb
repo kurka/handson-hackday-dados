{
 "metadata": {
  "name": "",
  "signature": "sha256:2c97fb60e55d1013e0318017f0b79999f4961a5eb3e4aba375c7ea536dd574f6"
 },
 "nbformat": 3,
 "nbformat_minor": 0,
 "worksheets": [
  {
   "cells": [
    {
     "cell_type": "heading",
     "level": 1,
     "metadata": {},
     "source": [
      "C\u00f3digos de teste"
     ]
    },
    {
     "cell_type": "markdown",
     "metadata": {},
     "source": [
      "Aproveite este notebook para testar trechos de c\u00f3digo, para auxiliar as tarefas dos outros notebooks.\n",
      "O espa\u00e7o aqui \u00e9 livre para ser criado por voc\u00ea, da forma que desejar."
     ]
    },
    {
     "cell_type": "code",
     "collapsed": false,
     "input": [
      "#escreva seu c\u00f3digo aqui\n",
      "\n",
      "\n",
      "\n"
     ],
     "language": "python",
     "metadata": {},
     "outputs": []
    },
    {
     "cell_type": "code",
     "collapsed": false,
     "input": [],
     "language": "python",
     "metadata": {},
     "outputs": []
    },
    {
     "cell_type": "code",
     "collapsed": false,
     "input": [],
     "language": "python",
     "metadata": {},
     "outputs": []
    }
   ],
   "metadata": {}
  }
 ]
}