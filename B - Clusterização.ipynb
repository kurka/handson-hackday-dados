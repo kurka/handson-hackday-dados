{
 "metadata": {
  "name": "",
  "signature": "sha256:d8a3df2f3e197eb9d43890edb3aa407fa5bfb0ed0ee23420a19c6f761894feb8"
 },
 "nbformat": 3,
 "nbformat_minor": 0,
 "worksheets": [
  {
   "cells": [
    {
     "cell_type": "heading",
     "level": 1,
     "metadata": {},
     "source": [
      "Agrupamento (ou clusteriza\u00e7\u00e3o)"
     ]
    },
    {
     "cell_type": "markdown",
     "metadata": {},
     "source": [
      "Uma das opera\u00e7\u00f5es mais comuns quando se trabalha com dados \u00e9 o agrupamento dos mesmos. Muitas vezes esse agrupamento \u00e9 explicito, como por exemplo grupos de deputados pertencentes a um mesmo partido. Entretanto, pode ser tamb\u00e9m muito interessante buscar outras formas de agrupamento nem sempre t\u00e3o explicitas.\n",
      "\n",
      "Existem diversas t\u00e9cnicas para esse prop\u00f3sito. O princ\u00edpio de todas essas t\u00e9cnicas \u00e9 buscar rela\u00e7\u00f5es de proximidade ou dist\u00e2ncia entre os atributos dos seus dados e encontrar grupos coesos de elementos com caracter\u00edsticas pr\u00f3ximas entre si (por exemplo, deputados podem ser agrupados por seus padr\u00f5es de votos, renda, discursos, etc...)"
     ]
    },
    {
     "cell_type": "markdown",
     "metadata": {},
     "source": [
      "Uma das t\u00e9cnicas mais conhecidas para esse agrupamento n\u00e3o supervisionado \u00e9 o algoritmo ***k-means***. O *k-means* consegue, a partir da distribui\u00e7\u00e3o dos atributos dos dados, detectar grupos.\n",
      "\n",
      "O \u00fanico por\u00e9m do m\u00e9todo \u00e9 que o n\u00famero de grupos deve ser determinado antes de sua execu\u00e7\u00e3o. \n",
      "Nem sempre \u00e9 poss\u00edvel prever de antem\u00e3o esse n\u00famero e diferentes valores devem ser testados em alguns casos."
     ]
    },
    {
     "cell_type": "markdown",
     "metadata": {},
     "source": [
      "Veremos a seguir alguns exemplos de utiliza\u00e7\u00e3o do *k-means*, utilizando a biblioteca de aprendizado de m\u00e1quina \"*scikit-learn*\" e dados de exemplo que cont\u00e9m dois atributos (coordenada x e y), que permitir\u00e1 a visualiza\u00e7\u00e3o gr\u00e1fica do algoritmo.\n"
     ]
    },
    {
     "cell_type": "heading",
     "level": 2,
     "metadata": {},
     "source": [
      "Exemplo 1: Base Mouse"
     ]
    },
    {
     "cell_type": "markdown",
     "metadata": {},
     "source": [
      "O primeiro exemplo utilizar\u00e1 como base o arquivo mouse.csv. Vamos carregar e plotar suas coordenadas.\n",
      "\n",
      "Tamb\u00e9m usaremos bibliotecas python que nos auxiliar\u00e3o:\n",
      "\n",
      "* A biblioteca NumPy permite a manipula\u00e7\u00e3o de arranjos multi-dimensionais, al\u00e9m de diversas outras facilidades;  \n",
      "* PyLab tamb\u00e9m nos oferece alguns recursos num\u00e9ricos, mas a usaremos principalmente para exibir imagens;  \n",
      "* A biblioteca scikit-learn oferece um conjunto grande de algoritmos de aprendizado de m\u00e1quina - incluindo uma implementa\u00e7\u00e3o do k-means.\n"
     ]
    },
    {
     "cell_type": "code",
     "collapsed": false,
     "input": [
      "import numpy as np\n",
      "import pylab as pl\n",
      "import matplotlib.pyplot as plt\n",
      "import pandas as pd\n",
      "from sklearn.cluster import KMeans\n",
      "\n",
      "#carrega base com base \"mouse\"\n",
      "\n",
      "mouse = np.load(\"/hackday/mouse.npy\") #le arquivo local csv, com dados, usando pandas\n",
      "print \"dimens\u00e3o da base:\", mouse.shape \n",
      "plt.scatter(mouse[:,0], mouse[:,1]) #plota pontos em 2D\n",
      "plt.show()"
     ],
     "language": "python",
     "metadata": {},
     "outputs": []
    },
    {
     "cell_type": "markdown",
     "metadata": {},
     "source": [
      "Observe a imagem plotada. Se voc\u00ea est\u00e1 vendo uma imagem de um personagem protegido por direitos autorais, n\u00f3s n\u00e3o nos responsabilizamos por isso.\n",
      "\n",
      "Tente perceber como os pontos se agrupam no espa\u00e7o. Em quantos grupos voc\u00ea dividiria a imagem? Quais pontos pertencem a cada grupo?"
     ]
    },
    {
     "cell_type": "markdown",
     "metadata": {},
     "source": [
      "Utilizando a implementa\u00e7\u00e3o do *kmeans* do scikit-learn, vamos agrupar os dados em 3 grupos:"
     ]
    },
    {
     "cell_type": "code",
     "collapsed": false,
     "input": [
      "k_means = KMeans(n_clusters=3) #inicializa a classe kmeans, com 3 clusters\n",
      "k_means.fit(mouse) #atribui clusters aos dados\n",
      "k_means_labels = k_means.labels_ #obtem o rotulo (classe) para cada amostra da colecao"
     ],
     "language": "python",
     "metadata": {},
     "outputs": []
    },
    {
     "cell_type": "markdown",
     "metadata": {},
     "source": [
      "Cada ponto do gr\u00e1fico recebeu um r\u00f3tulo (label), referente a sua classe. Podemos colorir o gr\u00e1fico, dando uma cor diferente para elementos de cada grupo:"
     ]
    },
    {
     "cell_type": "code",
     "collapsed": false,
     "input": [
      "plt.scatter(mouse[:,0], mouse[:,1], c=k_means_labels)\n",
      "plt.show()"
     ],
     "language": "python",
     "metadata": {},
     "outputs": []
    },
    {
     "cell_type": "heading",
     "level": 2,
     "metadata": {},
     "source": [
      "Exemplo 2: Base Mist\u00e9rio"
     ]
    },
    {
     "cell_type": "markdown",
     "metadata": {},
     "source": [
      "Agora \u00e9 a vez de voc\u00ea treinar. Analise o seguinte conjunto de pontos \"*mist\u00e9rio*\":"
     ]
    },
    {
     "cell_type": "code",
     "collapsed": false,
     "input": [
      "misterio = np.load(\"/hackday/misterio.npy\")\n",
      "plt.scatter(misterio[:,0], misterio[:,1]) #plota pontos em 2D\n",
      "plt.show()"
     ],
     "language": "python",
     "metadata": {},
     "outputs": []
    },
    {
     "cell_type": "heading",
     "level": 3,
     "metadata": {},
     "source": [
      "Tarefa:"
     ]
    },
    {
     "cell_type": "markdown",
     "metadata": {},
     "source": [
      "1. Quantos grupos voc\u00ea acha que comp\u00f5em a base *mist\u00e9rio*?\n",
      "Tente rodar o *kmeans*, variando o n\u00famero de clusters e observe o resultado para diferentes valores.\n",
      "\n",
      "2. Como comparar diferentes resultados de clusteriza\u00e7\u00e3o?\n",
      "Que medidas podem ser feitas para avaliar a coes\u00e3o de um cluster?\n",
      "\n",
      "3. Opcional: Implemente alguma forma de medir a qualidade de uma clusteriza\u00e7\u00e3o, dado o n\u00famero de clusters. \n",
      "Dica: A classe kmeans possui o atributo cluster_centers_ (acess\u00edvel como k_means.cluster_centers_), que cont\u00e9m as coordenadas do ponto central de cada grupo.\n",
      "\n",
      "\n",
      "Utilize os espa\u00e7os abaixo para implementar sua solu\u00e7\u00e3o"
     ]
    },
    {
     "cell_type": "code",
     "collapsed": false,
     "input": [
      "#rode o kmeans, para a base \"misterio\" alterando o valor da variavel \"n_clusters\"\n",
      "\n",
      "#plote o resultado e faca comparacoes\n",
      "\n",
      "#me\u00e7a a qualidade de cada resultado\n",
      "\n"
     ],
     "language": "python",
     "metadata": {},
     "outputs": []
    }
   ],
   "metadata": {}
  }
 ]
}