{
 "metadata": {
  "name": "",
  "signature": "sha256:e6badf28e9ebdbe6815f39fc5f11fe55f1e508ba5ec8313e907908aced0d2c5f"
 },
 "nbformat": 3,
 "nbformat_minor": 0,
 "worksheets": [
  {
   "cells": [
    {
     "cell_type": "heading",
     "level": 1,
     "metadata": {},
     "source": [
      "Como funciona esse curso"
     ]
    },
    {
     "cell_type": "markdown",
     "metadata": {},
     "source": [
      "O objetivo desse curso \u00e9 dar uma introdu\u00e7\u00e3o pr\u00e1tica a t\u00e9cnicas de minera\u00e7\u00e3o, sele\u00e7\u00e3o e an\u00e1lise de dados e tamb\u00e9m aprendizado de m\u00e1quina.\n",
      "\n",
      "O curso est\u00e1 estruturado da forma mais pr\u00e1tica poss\u00edvel, com exemplos did\u00e1ticos e pequenas tarefas que podem ser feitas com a supervis\u00e3o dos monitores presentes.\n",
      "\n",
      "A linguagem utilizada no material \u00e9 o python e SQL (para comunica\u00e7\u00e3o com banco de dados). No\u00e7\u00f5es pr\u00e9vias de programa\u00e7\u00e3o s\u00e3o necess\u00e1rias, por\u00e9m tentaremos introduzir todos os conceitos utilizados."
     ]
    },
    {
     "cell_type": "heading",
     "level": 2,
     "metadata": {},
     "source": [
      "Ipython Notebook"
     ]
    },
    {
     "cell_type": "markdown",
     "metadata": {},
     "source": [
      "Para tornar din\u00e2mica e \u00e1gil a experi\u00eancia, usaremos como plataforma o [notebook ipython](http://ipython.org/notebook.html), que permite a f\u00e1cil leitura, execu\u00e7\u00e3o e escrita de c\u00f3digo em python.\n",
      "\n",
      "Al\u00e9m disso, o uso do notebook hospedado no servidor, dispensa os participantes de terem que instalar qualquer software em suas m\u00e1quinas, rodando diretamente dos browsers."
     ]
    },
    {
     "cell_type": "heading",
     "level": 3,
     "metadata": {},
     "source": [
      "Executando c\u00f3digo"
     ]
    },
    {
     "cell_type": "markdown",
     "metadata": {},
     "source": [
      "Para visualizar os exemplos e fazer as tarefas, voc\u00ea dever\u00e1 executar o c\u00f3digo apresentado nos notebooks. Para executar c\u00f3digo, voc\u00ea pode apertar o bot\u00e3o \"play\" no topo da p\u00e1gina, ou utilizar o atalho **ctrl+enter**.\n",
      "\n",
      "Todas as vari\u00e1veis criadas nas c\u00e9lulas s\u00e3o compartilhadas entre si. Portanto, ao abrir uma p\u00e1gina execute todo o c\u00f3digo apresentado na ordem e implemente novo c\u00f3digo levando isso em considera\u00e7\u00e3o.\n",
      "\n"
     ]
    },
    {
     "cell_type": "heading",
     "level": 2,
     "metadata": {},
     "source": [
      "Set-up"
     ]
    },
    {
     "cell_type": "markdown",
     "metadata": {},
     "source": [
      "1. Obtenha os arquivos do notebook aqui **TODO**\n",
      "2. Encontre e acesse a pasta do seu usu\u00e1rio aqui: [lista de p\u00e1ginas](https://micael01.cloudapp.net/tree)\n",
      "3. Descompacte os arquivos e copie-os para sua pasta (basta arrast\u00e1-los do navegador de arquivos, para o navegador de internet)\n",
      "4. Sua pasta deve ficar assim: [pasta exemplos](https://micael01.cloudapp.net/tree/exemplos)\n",
      "5. Come\u00e7ando com o arquivo \"A - sele\u00e7\u00e3o e visualiza\u00e7\u00e3o de dados\", leia, estude e execute as tarefas propostas"
     ]
    },
    {
     "cell_type": "heading",
     "level": 2,
     "metadata": {},
     "source": [
      "HackDay"
     ]
    },
    {
     "cell_type": "markdown",
     "metadata": {},
     "source": [
      "Apesar desse curso poder ser cursado independentemente, ele fez parte do HackDay Dados Abertos - Unicamp.\n",
      "\n",
      "A inten\u00e7\u00e3o \u00e9 equipar e dar perspectivas para pessoas interessadas em fazer projetos a partir de dados governamentais.\n",
      "\n",
      "Encorajamos todos os participantes a participarem do evento HackDay, no dia 17/05/2014, na Unicamp. Mais info: http://www.apogeeu.fee.unicamp.br/dadosabertoshackday"
     ]
    },
    {
     "cell_type": "heading",
     "level": 2,
     "metadata": {},
     "source": [
      "Cr\u00e9ditos e agradecimento"
     ]
    },
    {
     "cell_type": "markdown",
     "metadata": {},
     "source": [
      "Essa atividade foi idealizada e planejada conjuntamente por:\n",
      "* Capitulo Estudantil em Intelig\u00eancia Computacional da IEEE - Unicamp;\n",
      "* Associa\u00e7\u00e3o dos P\u00f3s-graduandos da Engenharia El\u00e9trica - Unicamp (APOGEEU);\n",
      "\n",
      "O material foi desenvolvido por: David Kurka e Micael Carvalho.\n",
      "\n",
      "Agradecemos a Microsoft Research pela cess\u00e3o de recursos do Microsoft Azure, hospedando o presente conte\u00fado. Esta cess\u00e3o n\u00e3o significa endosso oficial da Microsoft ou da Microsoft Research ao Hackday e suas atividades derivadas."
     ]
    },
    {
     "cell_type": "heading",
     "level": 2,
     "metadata": {},
     "source": [
      "Licença"
     ]
    },
    {
     "cell_type": "markdown",
     "metadata": {},
     "source": [
      "Caso queira reproduzir ou fazer trabalhos derivados desse conte\u00fado, entrar em contato com: david.kurka (em) gmail.com"
     ]
    }
   ],
   "metadata": {}
  }
 ]
}
