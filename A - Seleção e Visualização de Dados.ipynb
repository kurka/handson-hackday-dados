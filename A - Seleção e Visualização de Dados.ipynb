{
 "metadata": {
  "name": "",
  "signature": "sha256:19e866071d9bf822c93afd7f9e1ce4d2991c5b88ed3cb4a087de13b2e62cf666"
 },
 "nbformat": 3,
 "nbformat_minor": 0,
 "worksheets": [
  {
   "cells": [
    {
     "cell_type": "heading",
     "level": 1,
     "metadata": {},
     "source": [
      "Acessando e visualizando dados da c\u00e2mara dos deputados brasileiros"
     ]
    },
    {
     "cell_type": "markdown",
     "metadata": {},
     "source": [
      "O objetivo desse guia \u00e9 dar no\u00e7\u00f5es iniciais de como utilizar a base de dados da c\u00e2mara dos deputados e alguns princ\u00edpios b\u00e1sicos de visualiza\u00e7\u00e3o de dados."
     ]
    },
    {
     "cell_type": "heading",
     "level": 2,
     "metadata": {},
     "source": [
      "Base de dados da cam\u00e2ra dos deputados"
     ]
    },
    {
     "cell_type": "markdown",
     "metadata": {},
     "source": [
      "A base que trabalharemos a seguir cont\u00e9m dados obtidos pelos org\u00e3os oficiais da cam\u00e2ra dos deputados em Bras\u00edlia, atrav\u00e9s da lei da transpar\u00eancia. \n",
      "\n",
      "A organiza\u00e7\u00e3o e estrutura\u00e7\u00e3o dos dados foi feita pelos alunos da Unicamp Alan Godoy, Eliezer Silva e Saullo Oliveira, na ocasi\u00e3o do hackathon organizado pela cam\u00e2ra em 2013 do qual fizeram parte. \n",
      "\n",
      "A base \u00e9 vasta e cont\u00e9m diversas informa\u00e7\u00f5es de mandatos de deputados, vota\u00e7\u00f5es, gastos, proposi\u00e7\u00f5es de leis, discursos, entre outros. A descri\u00e7\u00e3o do conte\u00fado completo da base pode ser encontrada em https://docs.google.com/document/d/1WJmwBvlJFzqVNuiMT0OIdlnuuNY73KSDyIdGlAltUY4/\n",
      "\n",
      "Este tutorial usa um recorte da base, denominado \"camara filtrado\".\n",
      "\n",
      "\n"
     ]
    },
    {
     "cell_type": "heading",
     "level": 2,
     "metadata": {},
     "source": [
      "Conectando-se e extraindo informa\u00e7\u00e3o da base"
     ]
    },
    {
     "cell_type": "heading",
     "level": 3,
     "metadata": {},
     "source": [
      "Conex\u00e3o com o servidor"
     ]
    },
    {
     "cell_type": "markdown",
     "metadata": {},
     "source": [
      "A base de dados est\u00e1 hospedada em um servidor mariadb (antigo MySQL). \u00c9 poss\u00edvel acessa-lo atrav\u00e9s de uma interface python, utilizando a biblioteca MySQLdb. \n",
      "\n",
      "Tamb\u00e9m utilizaremos as bibliotecas numpy e pandas para criar estruturas de dados para armazenar e manipular as informa\u00e7\u00f5es da base"
     ]
    },
    {
     "cell_type": "code",
     "collapsed": false,
     "input": [
      "#importacao de toda a biblioteca necessaria\n",
      "import MySQLdb\n",
      "import numpy as np\n",
      "import pandas as pd\n",
      "\n",
      "#conectando com o servidor:\n",
      "db = MySQLdb.connect(host=\"localhost\", user=\"hackday\", passwd=\"hackdaydadosabertos\", db=\"camarafiltrado\")\n",
      "cur = db.cursor() #cur eh o cursor por onde as chamadas ao banco sao feitas"
     ],
     "language": "python",
     "metadata": {},
     "outputs": []
    },
    {
     "cell_type": "heading",
     "level": 3,
     "metadata": {},
     "source": [
      "Consultas na base de dados"
     ]
    },
    {
     "cell_type": "markdown",
     "metadata": {},
     "source": [
      "A linguagem MySQL possui uma interface para se fazer consultas na base de dados, afim de extrair informa\u00e7\u00e3o relevante. Essas consultas s\u00e3o chamadas de **query**.\n",
      "\n",
      "Uma *query* pode selecionar uma visualiza\u00e7\u00e3o espec\u00edfica do banco de dados. T\u00edpicamente ela \u00e9 composta dos seguintes campos:\n",
      "\n",
      "\n",
      "**SELECT** &lt;lista de elementos requeridos> **FROM** &lt;tabela ou selecao que possui os elementos requeridos> **WHERE** &lt;condicoes dos elementos>;\n",
      "\n",
      "A seguir, exemplo de query que retorna o nome e estado de deputados do PT, sem ensino superior completo:"
     ]
    },
    {
     "cell_type": "code",
     "collapsed": false,
     "input": [
      "query = '''SELECT nome_parlamentar, uf FROM deputados WHERE eleicao_partido = \"PT\" and eleicao_grau_instrucao < 8;''' #string com query\n",
      "cur.execute(query) #executa query\n",
      "rows = cur.fetchall()\n"
     ],
     "language": "python",
     "metadata": {},
     "outputs": []
    },
    {
     "cell_type": "markdown",
     "metadata": {},
     "source": [
      "Para ler o resultado da query, utiliza-se a fun\u00e7\u00e3o *fetchall*. \n",
      "\n",
      "A biblioteca MySQLdb retorna cada linha do resultado como uma [tupla](https://docs.python.org/2/tutorial/datastructures.html#tuples-and-sequences). Para facilitar o resultado, vamos primeiro transformar as tuplas em lista e em seguida transforma-la em um *dataframe* da biblioteca pandas."
     ]
    },
    {
     "cell_type": "code",
     "collapsed": false,
     "input": [
      "lrows = [list(tupl) for tupl in rows] # Transformando tuplas em lista\n",
      "dados = pd.DataFrame(lrows, columns=[\"Nome Parlamentar\", \"estado\"]) # Convertendo para dataframe\n",
      "dados"
     ],
     "language": "python",
     "metadata": {},
     "outputs": []
    },
    {
     "cell_type": "heading",
     "level": 3,
     "metadata": {},
     "source": [
      "Cruzando tabelas"
     ]
    },
    {
     "cell_type": "markdown",
     "metadata": {},
     "source": [
      "\u00c9 comum acontecer de cruzarmos informa\u00e7\u00f5es presentes em mais de uma tabela ou sele\u00e7\u00e3o.\n",
      "\n",
      "\u00c9 poss\u00edvel aninhar queries, de forma que uma query usa como fonte de dados o resultado de outra tabela.\n",
      "\n",
      "Exemplo:\n",
      "Selecionar nomes e partidos de deputados que votaram a favor da vota\u00e7\u00e3o #1089"
     ]
    },
    {
     "cell_type": "code",
     "collapsed": false,
     "input": [
      "query = '''\n",
      "SELECT nome_parlamentar, eleicao_partido \n",
      "FROM deputados \n",
      "WHERE id_deputado in (SELECT id_deputado from votos where id_votacao=1089 and voto=0);\n",
      "'''\n",
      "\n",
      "cur.execute(query) \n",
      "rows = cur.fetchall()\n",
      "lrows = [list(tupl) for tupl in rows]\n",
      "dados = pd.DataFrame(lrows, columns=[\"Nome Parlamentar\", \"estado\"])\n",
      "dados"
     ],
     "language": "python",
     "metadata": {},
     "outputs": []
    },
    {
     "cell_type": "markdown",
     "metadata": {},
     "source": [
      "Outro comando \u00fatil \u00e9 o INNER JOIN, que consegue unir duas tabelas, com algum criterio.\n",
      "\n",
      "Sintaxe:\n",
      "&lt;tabela_a> INNER JOIN &lt;tabela_b> ON &lt;criterio de uniao>"
     ]
    },
    {
     "cell_type": "markdown",
     "metadata": {},
     "source": [
      "Para se aprofundar mais na linguagem, consulte: http://dev.mysql.com/doc/"
     ]
    },
    {
     "cell_type": "heading",
     "level": 2,
     "metadata": {},
     "source": [
      "Visualiza\u00e7\u00f5es e primeiras intui\u00e7\u00f5es"
     ]
    },
    {
     "cell_type": "markdown",
     "metadata": {},
     "source": [
      "Vamos fazer agora uma querie um pouco mais complexa, que correlaciona a idade de deputados, com os gastos realizados na campanha eleitoral.\n",
      "\n",
      "A biblioteca pandas possui a fun\u00e7\u00e3o *plot*, que gera gr\u00e1ficos que auxiliam a an\u00e1lise de resultados."
     ]
    },
    {
     "cell_type": "code",
     "collapsed": false,
     "input": [
      "query='''\n",
      "select a.id_deputado, a.eleicao_partido,  b.gastos_campanha, DATE_FORMAT(FROM_DAYS(DATEDIFF('2014-05-08',a.data_nascimento)), '%Y')+0 as idade \n",
      "from \n",
      "\tdeputados as a\n",
      "\tinner join (\n",
      "\t\tselect id_deputado, cast(sum(valor) as signed) as gastos_campanha \n",
      "\t\tfrom deputados_eleicoes_despesas \n",
      "\t\tgroup by id_deputado) as b \n",
      "\ton a.id_deputado = b.id_deputado\n",
      ";\n",
      "'''\n",
      "\n",
      "\n",
      "cur.execute(query) \n",
      "rows = cur.fetchall()\n",
      "\n",
      "lrows = [list(tupl) for tupl in rows]\n",
      "\n",
      "df = pd.DataFrame(lrows, columns=[\"id\", \"partido\", \"gastos_campanha\", \"idade\"])\n",
      "\n",
      "df.plot(x='gastos_campanha', y='idade', style='o')\n",
      "df\n"
     ],
     "language": "python",
     "metadata": {},
     "outputs": []
    },
    {
     "cell_type": "markdown",
     "metadata": {},
     "source": [
      "\u00c9 poss\u00edvel observar propriedades interessantes no gr\u00e1fico acima? Existe alguma rela\u00e7\u00e3o entre idade e gasto de campanha? Como explicar isso?"
     ]
    },
    {
     "cell_type": "heading",
     "level": 3,
     "metadata": {},
     "source": [
      "Tarefa pr\u00e1tica"
     ]
    },
    {
     "cell_type": "markdown",
     "metadata": {},
     "source": [
      "Crie uma nova query e fa\u00e7a uma nova visualiza\u00e7\u00e3o interessante. Tente mostra-la graficamente tamb\u00e9m.\n",
      "\n",
      "\n",
      "Sugest\u00f5es:\n",
      "*partido X gastos;*\n",
      "*gastos de campanha X gastos durante o mandato;*\n",
      "*idade X assiduidade em reuni\u00f5es*"
     ]
    },
    {
     "cell_type": "code",
     "collapsed": false,
     "input": [
      "#insira seu c\u00f3digo aqui\n",
      "\n",
      "\n"
     ],
     "language": "python",
     "metadata": {},
     "outputs": []
    },
    {
     "cell_type": "heading",
     "level": 2,
     "metadata": {},
     "source": [
      "Visualizando texto"
     ]
    },
    {
     "cell_type": "markdown",
     "metadata": {},
     "source": [
      "Al\u00e9m de dados n\u00famericos, \u00e9 comum a presen\u00e7a de texto nos dados a serem analisados. Uma forma interessante de visualizar e analisar grandes conjuntos de texto, \u00e9 utlizando nuvens de palavras (wordclouds).\n",
      "\n",
      "A seguir demonstraremos um exemplo de cria\u00e7\u00e3o de wordclouds que resumem o conte\u00fado de proposi\u00e7\u00f5es de leis escritas por deputados, por estado brasileiro."
     ]
    },
    {
     "cell_type": "markdown",
     "metadata": {},
     "source": [
      "Utilizaremos a biblioteca python [wordcloud](https://github.com/amueller/word_cloud)"
     ]
    },
    {
     "cell_type": "code",
     "collapsed": false,
     "input": [
      "import wordcloud\n",
      "import matplotlib.image as mpimg\n",
      "from unicodedata import normalize \n",
      "\n",
      "cur = db.cursor()\n",
      "\n",
      "#wordclouds por estado\n",
      "\n",
      "#seleciona propostas de lei (tipo PL), escritas por deputados (TipoParlamentar_10000), no ano de 2013   \n",
      "cur.execute(\"select id_proposicao from proposicoes where ano=2013 and tipo='PL' and autor1 in(select id_autor from autores_proposicoes where tipo='TipoParlamentar_10000');\")\n",
      "rows = cur.fetchall()\n",
      "proposicoes = [element for tupl in rows for element in tupl]\n",
      "\n",
      "print \"numero de proposicoes de deputados:\", len(proposicoes)"
     ],
     "language": "python",
     "metadata": {},
     "outputs": []
    },
    {
     "cell_type": "code",
     "collapsed": false,
     "input": [
      "#dicion\u00e1rio que armazenar\u00e1 cole\u00e7\u00e3o de textos para cada UF\n",
      "uf2tex = {}\n",
      "\n",
      "#para cada proposta, pega autor e uf\n",
      "for proposicao in proposicoes:\n",
      "    #pega texto da proposta\n",
      "    cur.execute(\"select inteiro_teor from proposicoes where id_proposicao=(%s) and inteiro_teor is not null\", (proposicao,))\n",
      "    pretextocod = cur.fetchone()\n",
      "    try:\n",
      "        textocod = str(pretextocod[0])\n",
      "    except:\n",
      "        continue\n",
      "    #tira acentos do texto, substituindo-os por letras comuns (ex: \u00e9 -> e, \u00e7 -> c)\n",
      "    texto = normalize('NFKD', textocod.decode(\"latin1\")).encode('ASCII','ignore').lower()\n",
      "    \n",
      "    cur.execute(\"select uf from deputados where id_deputado in (select autor1 from proposicoes where id_proposicao=(%s))\", (proposicao,))\n",
      "    uf = cur.fetchone()[0] #pega o uf do deputado\n",
      "    \n",
      "    #para cada UF, junta todas as propostas\n",
      "    if texto:\n",
      "        #texto = unicode(texto,encoding='latin1')\n",
      "        if uf not in uf2tex.keys():\n",
      "            uf2tex[uf] = texto\n",
      "        else:\n",
      "            uf2tex[uf] += texto"
     ],
     "language": "python",
     "metadata": {},
     "outputs": []
    },
    {
     "cell_type": "markdown",
     "metadata": {},
     "source": [
      "A wordcloud analisa a frequencia das palavras dos textos e produz uma imagem destacando as palavras mais frequentes.\n",
      "Entretanto, as palavras mais frequentes geralmente s\u00e3o pouco informativas, como artigos, conjun\u00e7\u00f5es, etc.\n",
      "\n",
      "Para sanar esse problema, elaboramos uma lista de palavras, chamadas *stopwords* que ser\u00e3o excluidas da wordcloud. Essa lista possui tamb\u00e9m palavras espec\u00edficas da base, como \"brasil\", \"deputado\", \"camara\", que tamb\u00e9m podem ser descartadas.\n"
     ]
    },
    {
     "cell_type": "code",
     "collapsed": false,
     "input": [
      "stopwords = [\"o\", \"e\", \"a\", \"as\", \"de\", \"da\", \"do\", \"dos\", \"das\", \"um\", \"uma\", \"umas\", \"que\", \"em\", \"no\", \"por\", \"com\", \"para\", \"os\", \"ao\", \"se\", \"na\", \"ou\", \"como\", \"pela\", \"mais\", \"nos\", \"ser\" ]\n",
      "stopwords += [\"n\", \"s\", \"p\", \"c\", \"1\", \"000\", \"5\", \"0\", \"2\", \"3\", \"4\", \"00\", \"2013\", \"m\", \"es\", \"lei\", \"art\", \"rio\", \"ncia\", \"comiss\", \"projeto\", \"dio\", \"ria\", \"d\", \"brasil\", \"comissao\", \"nao\", \"sim\"]\n",
      "stopwords += [\"aos\", \"sua\", \"anos\", \"2012\", \"pelo\", \"sobre\", \"seu\", \"1o\", \"1\", \"2\", \"3\", \"4\", \"5\", \"6\", \"7\", \"8\", \"9\", \"10\", \"b\", \"i\", \"ii\", \"iii\", \"f\", \"2000\", \"2001\", \"2002\", \"2003\", \"2004\"]\n",
      "stopwords += [\"2005\", \"2006\", \"2007\", \"2008\", \"2009\", \"2010\", \"2011\", \"d\", \"nas\", \"250\", \"dois\", \"esta\", \"tem\", \"sr\", \"relator\", \"11\", \"12\", \"sobre\", \"senador\", \"foi\", \"senhor\", \"sem\", \"trata\"]\n",
      "stopwords += [\"040\", \"sao\", \"mas\", \"deputados\", \"deputado\", \"camara\", \"ha\", \"todos\", \"mil\", \"foi\", \"sem\", \"05\", \"caput\", \"fins\", \"tema\", \"quando\", \"poder\", \"2o\", \"paulo\", \"68\", \"r\", \"seis\", \"tambem\"]"
     ],
     "language": "python",
     "metadata": {},
     "outputs": []
    },
    {
     "cell_type": "markdown",
     "metadata": {},
     "source": [
      "Finalmente, a execu\u00e7\u00e3o das wordclouds \u00e9 feita."
     ]
    },
    {
     "cell_type": "code",
     "collapsed": false,
     "input": [
      "#cria uma wordcloud para cada estado\n",
      "for estado in uf2tex.keys():\n",
      "    TEXT = uf2tex[estado]\n",
      "    if len(TEXT) < 5 or not TEXT:\n",
      "        continue\n",
      "    \n",
      "    words = wordcloud.process_text(TEXT, stopwords=stopwords)\n",
      "    # Computa a posicao das palavras\n",
      "    elements = wordcloud.fit_words(words)\n",
      "    # Desenha as palavras no arquivo png\n",
      "    wordcloud.draw(elements, estado+\".png\", scale=2)\n",
      "    img = mpimg.imread(estado+\".png\")\n",
      "    plt.figure()\n",
      "    plt.imshow(img)"
     ],
     "language": "python",
     "metadata": {},
     "outputs": []
    },
    {
     "cell_type": "heading",
     "level": 3,
     "metadata": {},
     "source": [
      "Tarefa"
     ]
    },
    {
     "cell_type": "markdown",
     "metadata": {},
     "source": [
      "Crie uma wordcloud para os textos de proposi\u00e7\u00f5es de cada partido diferente."
     ]
    },
    {
     "cell_type": "code",
     "collapsed": false,
     "input": [
      "#insira seu c\u00f3digo aqui\n",
      "\n",
      "\n"
     ],
     "language": "python",
     "metadata": {},
     "outputs": []
    }
   ],
   "metadata": {}
  }
 ]
}