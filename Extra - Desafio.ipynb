{
 "metadata": {
  "name": "",
  "signature": "sha256:09f45c06b0127eec7d156624a39c8df20b6fa440e36db43ff80b1b24a0535398"
 },
 "nbformat": 3,
 "nbformat_minor": 0,
 "worksheets": [
  {
   "cells": [
    {
     "cell_type": "heading",
     "level": 1,
     "metadata": {},
     "source": [
      "Desafio (opcional e experimental)"
     ]
    },
    {
     "cell_type": "markdown",
     "metadata": {},
     "source": [
      "Crie um programa que, dado os padr\u00f5es de votos de um candidato, preveja o partido a que ele pertence.\n",
      "\n",
      "Voc\u00ea deve:\n",
      "\n",
      "1. Escolher um conjunto de vota\u00e7\u00f5es\n",
      "2. Selecionar os votos dos deputados nessas vota\u00e7\u00f5es (favor\u00e1veis, contr\u00e1rios, absten\u00e7\u00f5es, etc..)\n",
      "3. Estruturar as informa\u00e7\u00f5es em uma matriz [Deputados X Votos]\n",
      "4. Treinar um classificador, utilizando a base\n",
      "5. Fazer predi\u00e7\u00f5es para um conjunto de teste\n",
      "\n",
      "Se n\u00e3o der tempo de fazer durante o Hands-on, quem sabe voc\u00ea n\u00e3o usa como id\u00e9ia para o hackday?"
     ]
    }
   ],
   "metadata": {}
  }
 ]
}