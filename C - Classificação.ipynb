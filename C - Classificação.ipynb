{
 "metadata": {
  "name": "",
  "signature": "sha256:a0c868a016e190bb9ae064e328764b5b6483494168b57866a15c46390d1b48fe"
 },
 "nbformat": 3,
 "nbformat_minor": 0,
 "worksheets": [
  {
   "cells": [
    {
     "cell_type": "heading",
     "level": 1,
     "metadata": {},
     "source": [
      "Classifica\u00e7\u00e3o"
     ]
    },
    {
     "cell_type": "markdown",
     "metadata": {},
     "source": [
      "Um classificador \u00e9 um modelo computacional capaz de predizer classes para determinado conjunto de informa\u00e7\u00f5es, a partir de um conhecimento pr\u00e9vio de o que caracteriza cada classe. Por exemplo, se voc\u00ea possui diversas categorias de projetos de leis (educacional, sa\u00fade, seguran\u00e7a, etc...), \u00e9 poss\u00edvel criar um classificador que, a partir do texto de um projeto, consegue identificar a categoria a que ele pertence.\n",
      "\n",
      "Para ser capaz de fazer uma classifica\u00e7\u00e3o bem sucedida, o classificador precisa antes passar por um processo de aprendizado (ou treinamento). Esse processo consiste em apresentar ao modelo computacional exemplos de dados dos quais j\u00e1 se sabe a classe, de forma que o classificador consiga identificar em suas caracter\u00edsticas (ou atributos) os crit\u00e9rios que definem cada classe.\n",
      "\n",
      "Assim como para a clusteriza\u00e7\u00e3o, existem disversas t\u00e9cnicas dispon\u00edveis para essa tarefa. Para este exerc\u00edcio, usaremos o SVM (Support Vector Machine) como classificador - voc\u00ea pode ler mais a respeito em [[0]](http://www.seer.ufrgs.br/rita/article/viewFile/rita_v14_n2_p43-67/3543). Outros modelos, como as Redes Neurais Artificiais tamb\u00e9m est\u00e3o dispon\u00edveis atrav\u00e9s da biblioteca scikit-learn. Encorajamos o estudo destes outros modelos, mas prezando a simplicidade n\u00e3o os incluiremos neste tutorial."
     ]
    },
    {
     "cell_type": "heading",
     "level": 2,
     "metadata": {},
     "source": [
      "Exemplo: Base Iris"
     ]
    },
    {
     "cell_type": "markdown",
     "metadata": {},
     "source": [
      "Neste exemplo, aprenderemos a utilizar um classificador para encontrar a classe correta de uma flor.  \n",
      "  \n",
      "Para isso, escolhemos o banco de dados Iris [[1]](http://archive.ics.uci.edu/ml/datasets/Iris), que contem informa\u00e7\u00f5es sobre 3 subesp\u00e9cies diferentes da flor Iris.\n",
      "\n",
      "Este banco tem 150 exemplos, 50 de cada classe:  \n",
      "- Setosa  \n",
      "- Versicolour  \n",
      "- Virginica  \n",
      "  \n",
      "Cada exemplo possui 4 atributos num\u00e9ricos:  \n",
      "- Comprimento da s\u00e9pala (em cent\u00edmetros);  \n",
      "- Largura da s\u00e9pala (em cent\u00edmetros);  \n",
      "- Comprimento da p\u00e9tala (em cent\u00edmetros);  \n",
      "- Largura da p\u00e9tala (em cent\u00edmetros);  \n",
      "  \n",
      "Nossa tarefa \u00e9: Dada a descri\u00e7\u00e3o de uma flor (os 4 n\u00fameros), descobrir qual \u00e9 sua subesp\u00e9cie. Usaremos o algoritmo SVM - Support Vector Machine da biblioteca scikit-learn para essa tarefa."
     ]
    },
    {
     "cell_type": "code",
     "collapsed": true,
     "input": [
      "import numpy as np\n",
      "import pylab as pl\n",
      "from sklearn import datasets, svm"
     ],
     "language": "python",
     "metadata": {},
     "outputs": []
    },
    {
     "cell_type": "markdown",
     "metadata": {},
     "source": [
      "A primeira coisa que devemos fazer \u00e9 carregar as informa\u00e7\u00f5es sobre as flores. Armazenaremos elas em duas vari\u00e1veis: X e Y.  \n",
      "  \n",
      "A vari\u00e1vel X \u00e9 uma matriz, em cada linha temos uma flor diferente (total = 150 linhas) e em cada coluna uma caracter\u00edstica daquela flor (total = 4 colunas).  \n",
      "Enquanto isso, guardaremos na vari\u00e1vel y a classe correta daquela flor para utilizarmos durante o treinamento e, depois, medirmos a acur\u00e1cia da nossa classifica\u00e7\u00e3o (total = 150 linhas)."
     ]
    },
    {
     "cell_type": "code",
     "collapsed": false,
     "input": [
      "iris = datasets.load_iris() #carrega a base iris\n",
      "X = iris.data\n",
      "y = iris.target  #guarda o \"gabarito\", com informa\u00e7\u00f5es das classes\n",
      "print 'Linhas de X: ' + str(len(X)) + ', Colunas de X: ' + str(len(X[0]))\n",
      "print 'Linhas de Y: ' + str(len(y))"
     ],
     "language": "python",
     "metadata": {},
     "outputs": []
    },
    {
     "cell_type": "heading",
     "level": 2,
     "metadata": {},
     "source": [
      "Separa\u00e7\u00e3o dos dados em treinamento e teste"
     ]
    },
    {
     "cell_type": "markdown",
     "metadata": {},
     "source": [
      "Agora que temos todas as flores, suas descri\u00e7\u00f5es e classifica\u00e7\u00e3o correta, queremos separ\u00e1-las em dois conjuntos distintos:  \n",
      "- Treinamento;  \n",
      "- Teste.  \n",
      "  \n",
      "O conjunto de treinamento serve para treinar o nosso classificador.\n",
      "Entregaremos para o SVM as flores do conjunto de treinamento, com sua descri\u00e7\u00e3o (4 n\u00fameros) e sua classe (1 das 3 classes poss\u00edveis - n\u00famero de 0 a 2).\n",
      "A partir da\u00ed, o SVM tentar\u00e1 aprender como identificar cada esp\u00e9cie de flor com base na sua descri\u00e7\u00e3o.  \n",
      "  \n",
      "Definimos que 50% das flores ser\u00e3o usadas no conjunto de treinamento, e as 50% restantes no conjunto de testes.  \n",
      "O conjunto de testes n\u00e3o \u00e9 usado durante o treinamento.\n",
      "Assim, garantimos que o classificador nunca os viu antes, e teremos uma medi\u00e7\u00e3o confi\u00e1vel de qu\u00e3o bom ele \u00e9 - j\u00e1 que estamos classificando flores \"desconhecidas\" at\u00e9 o momento.  "
     ]
    },
    {
     "cell_type": "code",
     "collapsed": false,
     "input": [
      "n_flores = len(X)\n",
      "porcentagem_treino = 0.5 # No intervalo 0..1; 0.8 = 80%\n",
      "\n",
      "np.random.seed(0)\n",
      "ordem = np.random.permutation(n_flores)\n",
      "X = X[ordem]\n",
      "y = y[ordem].astype(np.float)\n",
      "\n",
      "X_treino = X[:int(porcentagem_treino * n_flores)]\n",
      "y_treino = y[:int(porcentagem_treino * n_flores)]\n",
      "X_teste = X[int(porcentagem_treino * n_flores):]\n",
      "y_teste = y[int(porcentagem_treino * n_flores):]\n",
      "\n",
      "print 'Tamanho do conjunto de treinamento: ' + str(len(y_treino))\n",
      "print 'Tamanho do conjunto de testes: ' + str(len(y_teste))"
     ],
     "language": "python",
     "metadata": {},
     "outputs": []
    },
    {
     "cell_type": "heading",
     "level": 2,
     "metadata": {},
     "source": [
      "Treinamento do classificador"
     ]
    },
    {
     "cell_type": "markdown",
     "metadata": {},
     "source": [
      "Com os conjuntos de treino e testes separados, podemos treinar o nosso classificador (SVM).  \n",
      "Inicialmente, definimos quais par\u00e2metros vamos usar.  \n",
      "\n",
      "O SVM tem v\u00e1rios tipos de kernel (fun\u00e7\u00f5es usadas no momento de definir um hiperplano para classifica\u00e7\u00e3o), como RBF, Linear, Polinomial etc.\n",
      "Para este exemplo, usaremos o kernel linear - que \u00e9 o mais simples e r\u00e1pido. Para mais informa\u00e7\u00f5es sobre kernels e par\u00e2metros, visite [[2]](http://scikit-learn.org/stable/modules/generated/sklearn.svm.SVC.html#sklearn.svm.SVC).\n",
      "  \n",
      "O comando fit, ent\u00e3o, realiza o treinamento."
     ]
    },
    {
     "cell_type": "code",
     "collapsed": true,
     "input": [
      "classificador = svm.SVC(kernel='linear')\n",
      "classificador.fit(X_treino, y_treino);"
     ],
     "language": "python",
     "metadata": {},
     "outputs": []
    },
    {
     "cell_type": "markdown",
     "metadata": {},
     "source": [
      "Com o classificador treinado, podemos tentar predizer as classes de flor para o nosso conjunto de testes, sem olhar a vari\u00e1vel y_teste, que cont\u00e9m as classes verdadeiras."
     ]
    },
    {
     "cell_type": "code",
     "collapsed": false,
     "input": [
      "y_classificado = classificador.predict(X_teste)\n",
      "print y_classificado"
     ],
     "language": "python",
     "metadata": {},
     "outputs": []
    },
    {
     "cell_type": "heading",
     "level": 2,
     "metadata": {},
     "source": [
      "Testando o classificador"
     ]
    },
    {
     "cell_type": "markdown",
     "metadata": {},
     "source": [
      "Agora que temos os valores que nosso classificador atribuiu para cada flor, podemos conferir na vari\u00e1vel y_teste, que armazena os valores corretos, qual foi a acur\u00e1cia de nosso classificador."
     ]
    },
    {
     "cell_type": "code",
     "collapsed": false,
     "input": [
      "print y_classificado\n",
      "print y_teste\n",
      "\n",
      "acertos = sum(y_teste == y_classificado)\n",
      "\n",
      "print str(acertos) + ' acertos de ' + str(len(y_teste)) + ' testes. Acur\u00e1cia = %.2f%%' % (acertos / float(len(y_teste)) * 100)"
     ],
     "language": "python",
     "metadata": {},
     "outputs": []
    },
    {
     "cell_type": "markdown",
     "metadata": {},
     "source": [
      "Usando 50% das nossas flores no treinamento, conseguimos acur\u00e1cia de 98.67% no conjunto de teste - 1 erro em 75.  \n",
      "Essa \u00e9 uma taxa alta, que pode ser melhorada. Quanto mais exemplos forem usados no conjunto de treino, melhor o modelo poder\u00e1 ficar;\n",
      "em contrapartida, quanto maior o conjunto de treino, menor o conjunto de teste - e menos confian\u00e7a temos no resultado.\n",
      "Ent\u00e3o, precisamos encontrar um ponto em que aceitamos os resultados obtidos como confi\u00e1veis, e n\u00e3o existe regra para isso.  \n",
      "  \n",
      "Em bancos maiores e mais complexos, \u00e9 comum usar mais dados para o conjunto de treino (80%, por exemplo)."
     ]
    },
    {
     "cell_type": "heading",
     "level": 2,
     "metadata": {},
     "source": [
      "Tarefa"
     ]
    },
    {
     "cell_type": "markdown",
     "metadata": {},
     "source": [
      "* Mude a porcentagem de flores que ser\u00e1 utilizada durante o treinamento. Teste com: 10%, 20%, 30%, 40%, 70% e 80%. Como isso afeta o resultado do classificador? Voc\u00ea consegue explicar o motivo das diferen\u00e7as?  \n",
      "* Treine um classificador para a base de d\u00edgitos. Utilize \"datasets.load_digits\". Note que desta vez, a base tem 10 classes e 64 atributos num\u00e9ricos. Lembre-se de testar diferentes porcentagens para o conjunto de treinamento."
     ]
    },
    {
     "cell_type": "code",
     "collapsed": false,
     "input": [
      "# seu c\u00f3digo aqui!\n",
      "\n",
      "\n"
     ],
     "language": "python",
     "metadata": {},
     "outputs": []
    },
    {
     "cell_type": "code",
     "collapsed": false,
     "input": [],
     "language": "python",
     "metadata": {},
     "outputs": []
    },
    {
     "cell_type": "code",
     "collapsed": false,
     "input": [],
     "language": "python",
     "metadata": {},
     "outputs": []
    },
    {
     "cell_type": "heading",
     "level": 2,
     "metadata": {},
     "source": [
      "Refer\u00eancias"
     ]
    },
    {
     "cell_type": "markdown",
     "metadata": {},
     "source": [
      "[0] http://www.seer.ufrgs.br/rita/article/viewFile/rita_v14_n2_p43-67/3543  \n",
      "[1] http://archive.ics.uci.edu/ml/datasets/Iris  \n",
      "[2] http://scikit-learn.org/stable/modules/generated/sklearn.svm.SVC.html#sklearn.svm.SVC"
     ]
    }
   ],
   "metadata": {}
  }
 ]
}